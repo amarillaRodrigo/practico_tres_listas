{
 "cells": [
  {
   "cell_type": "markdown",
   "id": "498731c6",
   "metadata": {},
   "source": [
    "# Trabajo Practico n3 - Trabajando con Lists y Sets.\n",
    "## Criterios de evaluación.\n",
    "\n",
    "* Se deben utilizar nombres de variables descriptivos y claros (Utilizar la nomeclatura correspondiente para los nombres de variables).\n",
    "* Comentarios claros y concisos que expliquen el propósito de cada sección del código.\n",
    "* Utilizar mensajes de commit **descriptivos**. (Puedes utilizar la extension CONVENTIONAL COMMIT de VS-CODE). \n",
    "* Entrega en tiempo y forma.\n",
    "* Todo el código desarrollado debe ser subido a un repositorio en GitHub (el nombre del repositorio de seguir la siguiente estructura: tp3_tlp3_nombre_apellido).\n",
    "* Para resolver las actividades se debe insertar casillas de codigo entre cada actividad del cuaderno de Jupyter\n",
    "* El repositorio de GitHub debe incluir un archivo README.md con las instrucciones necesarias para la correcta ejecución del código.\n",
    "\n",
    "### ¡Importante!\n",
    "**El incumplimiento de los criterios de evaluación restará puntos en la nota final del práctico!**"
   ]
  },
  {
   "cell_type": "markdown",
   "id": "b361a7b6",
   "metadata": {},
   "source": [
    "### Actividad 1: \n",
    "Suma de todos los elementos de una lista, utilizando bucles repetitivos (for, while)."
   ]
  },
  {
   "cell_type": "code",
   "execution_count": 7,
   "id": "26009294",
   "metadata": {},
   "outputs": [
    {
     "name": "stdout",
     "output_type": "stream",
     "text": [
      "Total: 204\n"
     ]
    }
   ],
   "source": [
    "\n",
    "# todo:\n",
    "\n",
    "numbers = [14, 23, 34, 48, 85]\n",
    "total = 0\n",
    "\n",
    "for number in numbers:\n",
    "    total += number\n",
    "print(\"Total:\", total)\n"
   ]
  },
  {
   "cell_type": "markdown",
   "id": "0c239195",
   "metadata": {},
   "source": [
    "### Actividad 2: \n",
    "Encontrar el número más grande en una lista, utilizando bucles repetitivos (for, while)."
   ]
  },
  {
   "cell_type": "code",
   "execution_count": 32,
   "id": "3611d25a",
   "metadata": {},
   "outputs": [
    {
     "name": "stdout",
     "output_type": "stream",
     "text": [
      "Maximum: 86\n"
     ]
    }
   ],
   "source": [
    "\n",
    "# todo:\n",
    "\n",
    "from random import randint\n",
    "random_numbers =[randint(1, 100) for i in range(5)]\n",
    "\n",
    "def maximum_number(numbers):\n",
    "    # Busca el máximo de una lista de números\n",
    "    max_number = numbers[0]\n",
    "    for number in numbers:\n",
    "        # Se compara el número actual con el máximo encontrado hasta ahora\n",
    "        if number > max_number:\n",
    "            max_number = number\n",
    "    return max_number\n",
    "\n",
    "\n",
    "# Se imprime el máximo de los números aleatorios\n",
    "maximum = maximum_number(random_numbers)\n",
    "print(\"Maximum:\", maximum)\n"
   ]
  },
  {
   "cell_type": "markdown",
   "id": "70a24b97",
   "metadata": {},
   "source": [
    "### Actividad 3:\n",
    "Contar cuántas veces aparece un número específico. Utiliza estructuras repetitivas para la resolucion de este ejercicio. "
   ]
  },
  {
   "cell_type": "code",
   "execution_count": null,
   "id": "a9c8ebc7",
   "metadata": {},
   "outputs": [
    {
     "name": "stdout",
     "output_type": "stream",
     "text": [
      "El número 60 aparece 1 veces en la lista.\n"
     ]
    }
   ],
   "source": [
    "\n",
    "# todo:\n",
    "\n",
    "from random import randint\n",
    "\n",
    "lists = [randint(1, 200) for i in range(100)]\n",
    "\n",
    "def count_appearances(lists, number):\n",
    "    # Cuenta las apariciones de un número en una lista\n",
    "    count = 0\n",
    "    for n in lists:\n",
    "        if n == number:\n",
    "            # Si el número actual es igual al número buscado, se incrementa el contador\n",
    "            count += 1\n",
    "    return count\n",
    "\n",
    "target = int(input(\"Ingrese el numero que desea buscar: \"))\n",
    "\n",
    "result = count_appearances(lists, target)\n",
    "print(f\"El número {target} aparece {result} veces en la lista.\")\n",
    "\n",
    "\n"
   ]
  },
  {
   "cell_type": "markdown",
   "id": "b8dac397",
   "metadata": {},
   "source": [
    "### Actividad 4: \n",
    "Invertir una lista sin usar reverse() ni [::-1]"
   ]
  },
  {
   "cell_type": "code",
   "execution_count": null,
   "id": "d04fd492",
   "metadata": {},
   "outputs": [
    {
     "name": "stdout",
     "output_type": "stream",
     "text": [
      "Lista original: [50, 10, 23, 25, 14, 26, 3, 45]\n",
      "Lista invertida: [45, 3, 26, 14, 25, 23, 10, 50]\n"
     ]
    }
   ],
   "source": [
    "\n",
    "# todo:\n",
    "\n",
    "lists_two = [randint(1, 50) for i in range(8)]\n",
    "\n",
    "inverse_list = []\n",
    "\n",
    "# El bucle recorre la lista desde el ultimo indice con un paso de -1\n",
    "for i in range(len(lists_two)-1, -1, -1):\n",
    "    inverse_list.append(lists_two[i])\n",
    "    \n",
    "    \n",
    "print(\"Lista original:\", lists_two)\n",
    "print(\"Lista invertida:\", inverse_list)\n",
    "\n"
   ]
  },
  {
   "cell_type": "markdown",
   "id": "8889d0f2",
   "metadata": {},
   "source": [
    "### Actividad 5:\n",
    "Sumar los elementos de dos listas posición por posición, utilizando solo bucles repetititivos (for,while)."
   ]
  },
  {
   "cell_type": "code",
   "execution_count": null,
   "id": "bc0ec844",
   "metadata": {},
   "outputs": [
    {
     "name": "stdout",
     "output_type": "stream",
     "text": [
      "Lista uno: [2, 4, 6, 7, 8]\n",
      "Lista dos: [1, 3, 5, 9, 10]\n",
      "Suma pósicion por pósicion: [3, 7, 11, 16, 18]\n"
     ]
    }
   ],
   "source": [
    "\n",
    "# todo:\n",
    "\n",
    "lists_one = [ 2,4,6,7,8 ]\n",
    "lists_two = [ 1,3,5,9,10 ]\n",
    "\n",
    "lists_sum = []\n",
    "\n",
    "for i in range(len(lists_one)):\n",
    "    # Se suman los elementos de las listas en la misma posicion, usando el mismo indice para acceder a ambas listas\n",
    "    lists_sum.append(lists_one[i] + lists_two[i])\n",
    "print(\"Lista uno:\", lists_one)\n",
    "print(\"Lista dos:\", lists_two)\n",
    "print(\"Suma posicion por posicion:\", lists_sum)\n",
    "\n"
   ]
  },
  {
   "cell_type": "markdown",
   "id": "8ce33e6b",
   "metadata": {},
   "source": [
    "### Actividad 6:\n",
    "\n",
    "Escribir un programa que almacene el abecedario en una lista, elimine de la lista las letras que ocupen posiciones múltiplos de 3, y muestre por pantalla la lista resultante."
   ]
  },
  {
   "cell_type": "code",
   "execution_count": 53,
   "id": "b07326e2",
   "metadata": {},
   "outputs": [
    {
     "name": "stdout",
     "output_type": "stream",
     "text": [
      "Abecedario original: ['a', 'b', 'c', 'd', 'e', 'f', 'g', 'h', 'i', 'j', 'k', 'l', 'm', 'n', 'o', 'p', 'q', 'r', 's', 't', 'u', 'v', 'w', 'x', 'y', 'z']\n",
      "Lista resultante (sin las posiciones multiplos de 3): ['a', 'b', 'd', 'e', 'g', 'h', 'j', 'k', 'm', 'n', 'p', 'q', 's', 't', 'v', 'w', 'y', 'z']\n"
     ]
    }
   ],
   "source": [
    "\n",
    "# todo:\n",
    "\n",
    "\n",
    "alphabet = list(\"abcdefghijklmnopqrstuvwxyz\")\n",
    "result = []\n",
    "\n",
    "for i in range(len(alphabet)):\n",
    "    # Se verifica si la posición no es múltiplo de 3 y se agrega a la lista resultante\n",
    "    if (i + 1) % 3 != 0:\n",
    "        result.append(alphabet[i])\n",
    "\n",
    "print(\"Abecedario original:\", alphabet)\n",
    "print(\"Lista resultante (sin las posiciones multiplos de 3):\", result)\n"
   ]
  },
  {
   "cell_type": "markdown",
   "id": "5bfeb4b5",
   "metadata": {},
   "source": [
    "### Actividad 7:\n",
    "\n",
    "Escribir un programa que pida al usuario una palabra y muestre por pantalla si es un palíndromo (una palabra que se escribe de la misma forma al derecho y al reves)."
   ]
  },
  {
   "cell_type": "code",
   "execution_count": null,
   "id": "2365afcc",
   "metadata": {},
   "outputs": [
    {
     "name": "stdout",
     "output_type": "stream",
     "text": [
      "La palabra 'oso' es un palíndromo.\n"
     ]
    }
   ],
   "source": [
    "\n",
    "# todo:\n",
    "\n",
    "word = input(\"Por favor ingrese una palabra: \")\n",
    "\n",
    "palindrome = True\n",
    "\n",
    "#El bucle recorre la palabra desde el inicio hasta la mitad\n",
    "for i in range(len(word)//2):\n",
    "    # Se compara cada letra con su correspondiente desde el final de la palabra\n",
    "    if word[i] != word[-(i+1)]:\n",
    "        # Si no son iguales, no es un palíndromo\n",
    "        palindrome = False\n",
    "        break\n",
    "    \n",
    "\n",
    "if palindrome:\n",
    "    print(f\"La palabra '{word}' es un palíndromo.\")\n",
    "else:\n",
    "    print(f\"La palabra '{word}' no es un palíndromo.\")"
   ]
  },
  {
   "cell_type": "markdown",
   "id": "ed8b51be",
   "metadata": {},
   "source": [
    "### Actividad 8:\n",
    "\n",
    "Teniendo en cuenta el conjunto 1 y el conjunto 2, sin usar el operador de intersección &, calcular la intersección de dichos conjuntos."
   ]
  },
  {
   "cell_type": "code",
   "execution_count": null,
   "id": "21a434b9",
   "metadata": {},
   "outputs": [
    {
     "name": "stdout",
     "output_type": "stream",
     "text": [
      "Interseccion entre los conjuntos: {3, 4}\n"
     ]
    }
   ],
   "source": [
    "conjunto1 = {1, 2, 3, 4}\n",
    "conjunto2 = {3, 4, 5, 6}\n",
    "# todo:\n",
    "\n",
    "\n",
    "intersection = set()\n",
    "\n",
    "#Se recorre el primer conjunto y se verifica si cada elemento está en el segundo conjunto\n",
    "for i in conjunto1:\n",
    "    if i in conjunto2:\n",
    "        intersection.add(i)\n",
    "\n",
    "\n",
    "print(\"Interseccion entre los conjuntos:\", intersection)"
   ]
  },
  {
   "cell_type": "markdown",
   "id": "31b460dc",
   "metadata": {},
   "source": [
    "### Actividad 9:\n",
    "Eliminar duplicados de una lista usando un set."
   ]
  },
  {
   "cell_type": "code",
   "execution_count": null,
   "id": "0ef62008",
   "metadata": {},
   "outputs": [],
   "source": [
    "\n",
    "# todo:\n",
    "lista = [1, 2, 2, 3, 4, 4, 5]\n"
   ]
  },
  {
   "cell_type": "markdown",
   "id": "075f1f2c",
   "metadata": {},
   "source": [
    "### Actividad 10:\n",
    "\n",
    "Escribir un programa que cree 2 matrices y realice su multiplicacion."
   ]
  },
  {
   "cell_type": "code",
   "execution_count": null,
   "id": "4c1fd0e1",
   "metadata": {},
   "outputs": [],
   "source": [
    "\n",
    "# todo:"
   ]
  }
 ],
 "metadata": {
  "kernelspec": {
   "display_name": "Python 3",
   "language": "python",
   "name": "python3"
  },
  "language_info": {
   "codemirror_mode": {
    "name": "ipython",
    "version": 3
   },
   "file_extension": ".py",
   "mimetype": "text/x-python",
   "name": "python",
   "nbconvert_exporter": "python",
   "pygments_lexer": "ipython3",
   "version": "3.13.2"
  }
 },
 "nbformat": 4,
 "nbformat_minor": 5
}
